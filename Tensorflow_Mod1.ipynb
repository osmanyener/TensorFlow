{
  "nbformat": 4,
  "nbformat_minor": 0,
  "metadata": {
    "colab": {
      "provenance": [],
      "authorship_tag": "ABX9TyM/xwYMNwCBn6Bkmn20BspE",
      "include_colab_link": true
    },
    "kernelspec": {
      "name": "python3",
      "display_name": "Python 3"
    },
    "language_info": {
      "name": "python"
    }
  },
  "cells": [
    {
      "cell_type": "markdown",
      "metadata": {
        "id": "view-in-github",
        "colab_type": "text"
      },
      "source": [
        "<a href=\"https://colab.research.google.com/github/osmanyener/TensorFlow/blob/main/Tensorflow_Mod1.ipynb\" target=\"_parent\"><img src=\"https://colab.research.google.com/assets/colab-badge.svg\" alt=\"Open In Colab\"/></a>"
      ]
    },
    {
      "cell_type": "code",
      "execution_count": 1,
      "metadata": {
        "colab": {
          "base_uri": "https://localhost:8080/"
        },
        "id": "_YiZsLY_iK2F",
        "outputId": "a99226d5-1043-4485-9895-37000913b078"
      },
      "outputs": [
        {
          "output_type": "stream",
          "name": "stdout",
          "text": [
            "Colab only includes TensorFlow 2.x; %tensorflow_version has no effect.\n",
            "<module 'tensorflow._api.v2.version' from '/usr/local/lib/python3.10/dist-packages/tensorflow/_api/v2/version/__init__.py'>\n"
          ]
        }
      ],
      "source": [
        "%tensorflow_version 2.x\n",
        "import tensorflow as tf\n",
        "print(tf.version)"
      ]
    },
    {
      "cell_type": "code",
      "source": [
        "string = tf.Variable(\"starting to ML\",tf.string)\n",
        "number = tf.Variable(375, tf.int16)\n",
        "floating = tf.Variable(3.5452, tf.float64)"
      ],
      "metadata": {
        "id": "Sz8Jkc3c5sRg"
      },
      "execution_count": 2,
      "outputs": []
    },
    {
      "cell_type": "markdown",
      "source": [
        "What we have created above is tensor of rank 0, also known as a scalar. Now, lets create some tensors of higher degrees or/ranks."
      ],
      "metadata": {
        "id": "VrdFGnr_6RCc"
      }
    },
    {
      "cell_type": "code",
      "source": [
        "rank1_tensor = tf.Variable([\"Test\", \"Ok\", \"Tim\",\"k\"], tf.string)\n",
        "rank2_tensor = tf.Variable([[\"test\", \"ok\",\"ok\",\"ok\"], [\"john\", \"bob\",\"lik\",\"then\"]], tf.string)"
      ],
      "metadata": {
        "id": "8MiaHPQ26j3n"
      },
      "execution_count": 12,
      "outputs": []
    },
    {
      "cell_type": "markdown",
      "source": [
        "in the first line, we have one array so its rank is 1. But in the second line, there are two dimensional array in the list so its rank would be 2. Now, lets try to execute tensors.  "
      ],
      "metadata": {
        "id": "MLCtQinO7EDz"
      }
    },
    {
      "cell_type": "code",
      "source": [
        "tf.rank(rank1_tensor)"
      ],
      "metadata": {
        "colab": {
          "base_uri": "https://localhost:8080/"
        },
        "id": "u3GrfGCM7rdV",
        "outputId": "b068e5b7-1004-47a8-971e-9ea239715497"
      },
      "execution_count": 13,
      "outputs": [
        {
          "output_type": "execute_result",
          "data": {
            "text/plain": [
              "<tf.Tensor: shape=(), dtype=int32, numpy=1>"
            ]
          },
          "metadata": {},
          "execution_count": 13
        }
      ]
    },
    {
      "cell_type": "code",
      "source": [
        "rank2_tensor.shape"
      ],
      "metadata": {
        "colab": {
          "base_uri": "https://localhost:8080/"
        },
        "id": "m6CeuK82790f",
        "outputId": "06a3fb2b-68c9-4366-c256-e5f2879ceb21"
      },
      "execution_count": 15,
      "outputs": [
        {
          "output_type": "execute_result",
          "data": {
            "text/plain": [
              "TensorShape([2, 4])"
            ]
          },
          "metadata": {},
          "execution_count": 15
        }
      ]
    },
    {
      "cell_type": "markdown",
      "source": [
        "The shape of a tensor is simply the amount of elements that exist in each dimension. For example which is above, the shape of rank2_tensor is ([2,4]) which means there are two list and there are 4 item inside of the each list."
      ],
      "metadata": {
        "id": "e2a2k9ur8GjY"
      }
    },
    {
      "cell_type": "markdown",
      "source": [
        "## Changing Shape\n"
      ],
      "metadata": {
        "id": "Q1QRMCJl92-o"
      }
    },
    {
      "cell_type": "markdown",
      "source": [
        "The number of elements of a tensor is the product of the sizes of all its shapes."
      ],
      "metadata": {
        "id": "P0M2uZglBa8t"
      }
    },
    {
      "cell_type": "code",
      "source": [
        "tensor1 = tf.ones([1,2,3])              # tf.ones() create a shape [1,2,3] tensor full of ones\n",
        "tensor2 = tf.reshape(tensor1,[2,3,1])   # reshape existing data to shape [2,3,1]\n",
        "tensor3 = tf.reshape(tensor2,[3,-1])    # -1 tells the tensor to calculate the size of the dimension in that place\n",
        "                                        # this wlil reshape the tensor [3,2]\n",
        "                                        # the number of elements in the reshaped tensor MUST match the number in the original"
      ],
      "metadata": {
        "id": "omcTcc6QAM9G"
      },
      "execution_count": 16,
      "outputs": []
    },
    {
      "cell_type": "code",
      "source": [
        "print(tensor1)\n",
        "print(tensor2)\n",
        "print(tensor3)"
      ],
      "metadata": {
        "colab": {
          "base_uri": "https://localhost:8080/"
        },
        "id": "E5Pkneg7BMno",
        "outputId": "a56dd397-4e3a-4894-f584-e5d681e3ac52"
      },
      "execution_count": 17,
      "outputs": [
        {
          "output_type": "stream",
          "name": "stdout",
          "text": [
            "tf.Tensor(\n",
            "[[[1. 1. 1.]\n",
            "  [1. 1. 1.]]], shape=(1, 2, 3), dtype=float32)\n",
            "tf.Tensor(\n",
            "[[[1.]\n",
            "  [1.]\n",
            "  [1.]]\n",
            "\n",
            " [[1.]\n",
            "  [1.]\n",
            "  [1.]]], shape=(2, 3, 1), dtype=float32)\n",
            "tf.Tensor(\n",
            "[[1. 1.]\n",
            " [1. 1.]\n",
            " [1. 1.]], shape=(3, 2), dtype=float32)\n"
          ]
        }
      ]
    },
    {
      "cell_type": "code",
      "source": [
        "# Example of changing the shape\n",
        "t = tf.zeros([5,5,5,5])\n",
        "# print(t)\n",
        "t2 = tf.reshape(t,[625])\n",
        "# print(t2)\n",
        "t3 = tf.reshape(t2,[125,-1])\n",
        "print(t3)"
      ],
      "metadata": {
        "id": "AavR3ysiDKw7"
      },
      "execution_count": null,
      "outputs": []
    }
  ]
}